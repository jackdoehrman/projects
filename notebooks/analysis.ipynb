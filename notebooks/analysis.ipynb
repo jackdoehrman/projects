{
 "cells": [
  {
   "cell_type": "code",
   "execution_count": null,
   "id": "8ea3e3f6-d3af-44e5-8bad-a99457cbe63a",
   "metadata": {},
   "outputs": [],
   "source": []
  }
 ],
 "metadata": {
  "kernelspec": {
   "display_name": "",
   "name": ""
  },
  "language_info": {
   "name": ""
  }
 },
 "nbformat": 4,
 "nbformat_minor": 5
}
